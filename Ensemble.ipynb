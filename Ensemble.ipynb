{
 "cells": [
  {
   "cell_type": "markdown",
   "metadata": {},
   "source": [
    "# Ensemble"
   ]
  },
  {
   "cell_type": "code",
   "execution_count": 6,
   "metadata": {},
   "outputs": [],
   "source": [
    "import pandas as pd\n",
    "\n",
    "df1 = pd.read_csv('submission_val1_all_es25.csv')\n",
    "df2 = pd.read_csv('submission_val1_select_es25.csv')\n",
    "df3 = pd.read_csv('submission_val-all_all_es25.csv')\n",
    "df4 = pd.read_csv('submission_val-all_select_es25.csv')\n",
    "df1['item_cnt_month'] = (2 * df1['item_cnt_month'] + df2['item_cnt_month'] + 2 * df3['item_cnt_month'] + df4['item_cnt_month']) / 6\n",
    "df1.to_csv('submission_ens_val1&all_all&select.csv', index=False)"
   ]
  }
 ],
 "metadata": {
  "kernelspec": {
   "display_name": "Python 3",
   "language": "python",
   "name": "python3"
  },
  "language_info": {
   "codemirror_mode": {
    "name": "ipython",
    "version": 3
   },
   "file_extension": ".py",
   "mimetype": "text/x-python",
   "name": "python",
   "nbconvert_exporter": "python",
   "pygments_lexer": "ipython3",
   "version": "3.5.2"
  }
 },
 "nbformat": 4,
 "nbformat_minor": 2
}
